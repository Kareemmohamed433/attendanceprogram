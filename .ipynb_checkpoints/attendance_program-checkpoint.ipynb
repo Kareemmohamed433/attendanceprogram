{
 "cells": [
  {
   "cell_type": "code",
   "execution_count": 1,
   "id": "16e75bc1",
   "metadata": {
    "scrolled": true
   },
   "outputs": [
    {
     "name": "stdout",
     "output_type": "stream",
     "text": [
      "📷 الكاميرا تعمل... اضغط 'q' للإغلاق\n",
      "تم تحميل الأسماء التالية: ['eman', 'kareem', 'mahoud', 'mohamed', 'mostafa', 'nada', 'youisf']\n",
      "✅ تم اكتشاف 1 وجه(وجوه)\n",
      "🔍 المسافات بين الوجوه: [0.90858242 0.44753697 0.60011992 0.60445337 0.7582715  0.78222361\n",
      " 0.68883962]\n",
      "✅ kareem مسجل بالفعل اليوم، لم يتم التغيير\n",
      "✅ تم اكتشاف 1 وجه(وجوه)\n",
      "🔍 المسافات بين الوجوه: [0.91425515 0.45531816 0.64832793 0.62590708 0.77534999 0.76512511\n",
      " 0.64262689]\n",
      "✅ تم اكتشاف 1 وجه(وجوه)\n",
      "🔍 المسافات بين الوجوه: [0.87306294 0.42462314 0.63492242 0.63451841 0.75703329 0.73893605\n",
      " 0.67109815]\n",
      "✅ تم اكتشاف 2 وجه(وجوه)\n",
      "🔍 المسافات بين الوجوه: [0.88155376 0.44702619 0.63441127 0.60475241 0.73630571 0.76027799\n",
      " 0.66107618]\n",
      "🔍 المسافات بين الوجوه: [0.90310453 0.56527514 0.69578466 0.42388995 0.78206427 0.68241772\n",
      " 0.65352875]\n",
      "✅ تم اكتشاف 2 وجه(وجوه)\n",
      "🔍 المسافات بين الوجوه: [0.84812424 0.54348498 0.63968539 0.63351595 0.80156683 0.72295635\n",
      " 0.65095907]\n",
      "🔍 المسافات بين الوجوه: [0.90535379 0.59414542 0.66778601 0.43066385 0.7657218  0.76410351\n",
      " 0.64081886]\n",
      "✅ تم اكتشاف 1 وجه(وجوه)\n",
      "🔍 المسافات بين الوجوه: [0.87491789 0.51868162 0.67421644 0.61091829 0.77004735 0.85265864\n",
      " 0.69101894]\n",
      "✅ تم اكتشاف 2 وجه(وجوه)\n",
      "🔍 المسافات بين الوجوه: [0.8650625  0.53659338 0.62732389 0.64507967 0.74693028 0.84299224\n",
      " 0.700728  ]\n",
      "🔍 المسافات بين الوجوه: [0.88144602 0.56725703 0.63522457 0.45136081 0.73397465 0.84465795\n",
      " 0.75244498]\n",
      "✅ تم اكتشاف 2 وجه(وجوه)\n",
      "🔍 المسافات بين الوجوه: [0.90691954 0.48210311 0.62696353 0.63414742 0.80506    0.78712911\n",
      " 0.68600953]\n",
      "🔍 المسافات بين الوجوه: [0.91004169 0.55053665 0.66517601 0.38678802 0.76061477 0.80108758\n",
      " 0.72674528]\n",
      "🔴 إغلاق الكاميرا.\n",
      "✅ تم إغلاق الكاميرا وإيقاف البرنامج بنجاح.\n"
     ]
    }
   ],
   "source": [
    "import cv2\n",
    "import face_recognition\n",
    "import openpyxl\n",
    "from datetime import datetime\n",
    "import numpy as np\n",
    "import os\n",
    "\n",
    "# بدء التقاط الفيديو من الكاميرا\n",
    "video_cap = cv2.VideoCapture(0)\n",
    "\n",
    "# التحقق من أن الكاميرا تعمل\n",
    "if not video_cap.isOpened():\n",
    "    print(\"⚠️ خطأ: تعذر فتح الكاميرا.\")\n",
    "    exit()\n",
    "\n",
    "# ضبط دقة الفيديو\n",
    "video_cap.set(cv2.CAP_PROP_FRAME_WIDTH, 1280)\n",
    "video_cap.set(cv2.CAP_PROP_FRAME_HEIGHT, 720)\n",
    "\n",
    "print(\"📷 الكاميرا تعمل... اضغط 'q' للإغلاق\")\n",
    "\n",
    "# 📌 تحميل جميع الصور من مجلد 'photo/' والتعرف على الوجوه\n",
    "face_encodings_list = []\n",
    "face_names = []\n",
    "\n",
    "photo_dir = \"photo/\"\n",
    "if not os.path.exists(photo_dir):\n",
    "    print(f\"⚠️ خطأ: المجلد '{photo_dir}' غير موجود.\")\n",
    "    exit()\n",
    "\n",
    "for file_name in os.listdir(photo_dir):\n",
    "    if file_name.endswith((\".jpg\", \".jpeg\", \".png\")):\n",
    "        image_path = os.path.join(photo_dir, file_name)\n",
    "        image = face_recognition.load_image_file(image_path)\n",
    "        encodings = face_recognition.face_encodings(image)\n",
    "\n",
    "        if encodings:\n",
    "            face_encodings_list.append(encodings[0])\n",
    "            face_names.append(os.path.splitext(file_name)[0])\n",
    "        else:\n",
    "            print(f\"⚠️ تحذير: لم يتم العثور على وجه في {file_name}\")\n",
    "\n",
    "if not face_encodings_list:\n",
    "    print(\"⚠️ خطأ: لم يتم تحميل أي وجوه، تأكد من وضع صور صالحة في مجلد 'photo/'.\")\n",
    "    exit()\n",
    "\n",
    "print(f\"تم تحميل الأسماء التالية: {face_names}\")\n",
    "\n",
    "# فتح ملف Excel الموجود\n",
    "excel_file = 'Attendance.xlsx'\n",
    "if not os.path.exists(excel_file):\n",
    "    print(f\"⚠️ خطأ: الملف {excel_file} غير موجود.\")\n",
    "    exit()\n",
    "\n",
    "wb = openpyxl.load_workbook(excel_file)\n",
    "ws = wb.active\n",
    "\n",
    "# تحديد عمود الحضور لهذا اليوم\n",
    "current_date = datetime.now().strftime(\"%Y-%m-%d\")\n",
    "attendance_column = None\n",
    "\n",
    "# البحث عن عمود بتاريخ اليوم\n",
    "for col in range(2, ws.max_column + 1):  \n",
    "    if ws.cell(row=1, column=col).value == current_date:\n",
    "        attendance_column = col\n",
    "        break\n",
    "\n",
    "# إذا لم يكن موجودًا، يتم إنشاء عمود جديد\n",
    "if not attendance_column:\n",
    "    attendance_column = ws.max_column + 1\n",
    "    ws.cell(row=1, column=attendance_column).value = current_date\n",
    "\n",
    "student_list = face_names.copy()\n",
    "\n",
    "try:\n",
    "    while True:\n",
    "        ret, frame = video_cap.read()\n",
    "        if not ret:\n",
    "            print(\"⚠️ خطأ: لم يتم التقاط صورة من الكاميرا.\")\n",
    "            break\n",
    "\n",
    "        rgb = cv2.cvtColor(frame, cv2.COLOR_BGR2RGB)\n",
    "        face_locations = face_recognition.face_locations(rgb)\n",
    "        print(f\"✅ تم اكتشاف {len(face_locations)} وجه(وجوه)\")\n",
    "\n",
    "        face_names_detected = []\n",
    "        if face_locations:\n",
    "            face_encodings = face_recognition.face_encodings(rgb, face_locations)\n",
    "            for face_encoding in face_encodings:\n",
    "                matches = face_recognition.compare_faces(face_encodings_list, face_encoding, tolerance=0.5)\n",
    "                face_distances = face_recognition.face_distance(face_encodings_list, face_encoding)\n",
    "                print(f\"🔍 المسافات بين الوجوه: {face_distances}\")\n",
    "\n",
    "                if any(matches):  \n",
    "                    best_match = np.argmin(face_distances)\n",
    "                    name = face_names[best_match]\n",
    "                else:\n",
    "                    name = \"Unknown\"\n",
    "                \n",
    "                face_names_detected.append(name)\n",
    "                \n",
    "                if name in face_names and name in student_list:\n",
    "                    student_list.remove(name)\n",
    "                    \n",
    "                    # البحث عن الصف المناسب للاسم\n",
    "                    for row in range(2, ws.max_row + 1):\n",
    "                        if ws.cell(row=row, column=1).value == name:\n",
    "                            # التحقق مما إذا كان الحضور مسجلًا بالفعل في عمود اليوم\n",
    "                            if ws.cell(row=row, column=attendance_column).value is None:\n",
    "                                ws.cell(row=row, column=attendance_column).value = True\n",
    "                                print(f\"📝 تم تسجيل الحضور للطالب {name} في ملف Excel\")\n",
    "                            else:\n",
    "                                print(f\"✅ {name} مسجل بالفعل اليوم، لم يتم التغيير\")\n",
    "                            break\n",
    "\n",
    "        for (top, right, bottom, left), name in zip(face_locations, face_names_detected):\n",
    "            cv2.rectangle(frame, (left, top), (right, bottom), (0, 255, 0), 2)\n",
    "            cv2.putText(frame, name, (left, top - 10), cv2.FONT_HERSHEY_SIMPLEX, 0.5, (0, 255, 0), 2)\n",
    "\n",
    "        cv2.imshow('Face Recognition', frame)\n",
    "\n",
    "        if cv2.waitKey(1) & 0xFF == ord('q'):\n",
    "            print(\"🔴 إغلاق الكاميرا.\")\n",
    "            break\n",
    "except KeyboardInterrupt:\n",
    "    print(\"🔴 تم إغلاق البرنامج.\")\n",
    "finally:\n",
    "    wb.save(excel_file)\n",
    "    video_cap.release()\n",
    "    cv2.destroyAllWindows()\n",
    "    print(\"✅ تم إغلاق الكاميرا وإيقاف البرنامج بنجاح.\")\n"
   ]
  },
  {
   "cell_type": "markdown",
   "id": "efeaf362",
   "metadata": {},
   "source": [
    "# Importing Required Libraries"
   ]
  },
  {
   "cell_type": "code",
   "execution_count": 7,
   "id": "f800b026",
   "metadata": {},
   "outputs": [],
   "source": [
    "\n"
   ]
  },
  {
   "cell_type": "markdown",
   "id": "23e462a4",
   "metadata": {},
   "source": [
    "# Opening the Webcam and Checking \n"
   ]
  },
  {
   "cell_type": "code",
   "execution_count": 8,
   "id": "508f9aa3",
   "metadata": {},
   "outputs": [],
   "source": []
  },
  {
   "cell_type": "markdown",
   "id": "1b280c6f",
   "metadata": {},
   "source": [
    "# Setting the Camera Resolution And  Loading Stored Faces for Recognition"
   ]
  },
  {
   "cell_type": "code",
   "execution_count": 9,
   "id": "3dd586fb",
   "metadata": {},
   "outputs": [],
   "source": []
  },
  {
   "cell_type": "markdown",
   "id": "3e1c5ac1",
   "metadata": {},
   "source": [
    "# Identifying the Attendance Column for Today"
   ]
  },
  {
   "cell_type": "code",
   "execution_count": 10,
   "id": "64a66164",
   "metadata": {},
   "outputs": [],
   "source": [
    "\n"
   ]
  },
  {
   "cell_type": "markdown",
   "id": "4df1e390",
   "metadata": {},
   "source": [
    "# Capturing Video and Detecting Faces And Marking Attendance in the Excel File And  Drawing Boxes Around Detected Faces"
   ]
  },
  {
   "cell_type": "code",
   "execution_count": null,
   "id": "03f29ef2",
   "metadata": {},
   "outputs": [],
   "source": [
    "\n"
   ]
  },
  {
   "cell_type": "markdown",
   "id": "5905023f",
   "metadata": {},
   "source": [
    "# Closing the Camera and Saving Data"
   ]
  },
  {
   "cell_type": "code",
   "execution_count": null,
   "id": "df646d6f",
   "metadata": {},
   "outputs": [],
   "source": []
  },
  {
   "cell_type": "code",
   "execution_count": null,
   "id": "fb34ec06",
   "metadata": {},
   "outputs": [],
   "source": []
  },
  {
   "cell_type": "code",
   "execution_count": null,
   "id": "e6a08f03",
   "metadata": {},
   "outputs": [],
   "source": []
  },
  {
   "cell_type": "code",
   "execution_count": null,
   "id": "c2e027ec",
   "metadata": {},
   "outputs": [],
   "source": []
  },
  {
   "cell_type": "code",
   "execution_count": null,
   "id": "483d4555",
   "metadata": {},
   "outputs": [],
   "source": []
  }
 ],
 "metadata": {
  "kernelspec": {
   "display_name": "Python 3 (ipykernel)",
   "language": "python",
   "name": "python3"
  },
  "language_info": {
   "codemirror_mode": {
    "name": "ipython",
    "version": 3
   },
   "file_extension": ".py",
   "mimetype": "text/x-python",
   "name": "python",
   "nbconvert_exporter": "python",
   "pygments_lexer": "ipython3",
   "version": "3.9.13"
  }
 },
 "nbformat": 4,
 "nbformat_minor": 5
}
