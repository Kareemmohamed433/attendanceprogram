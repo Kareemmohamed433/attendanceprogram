{
 "cells": [
  {
   "cell_type": "code",
   "execution_count": null,
   "id": "16e75bc1",
   "metadata": {
    "scrolled": true
   },
   "outputs": [],
   "source": []
  },
  {
   "cell_type": "markdown",
   "id": "efeaf362",
   "metadata": {},
   "source": [
    "# Importing Required Libraries"
   ]
  },
  {
   "cell_type": "code",
   "execution_count": null,
   "id": "f800b026",
   "metadata": {},
   "outputs": [],
   "source": [
    "\n"
   ]
  },
  {
   "cell_type": "markdown",
   "id": "23e462a4",
   "metadata": {},
   "source": [
    "# Opening the Webcam and Checking \n"
   ]
  },
  {
   "cell_type": "code",
   "execution_count": null,
   "id": "508f9aa3",
   "metadata": {},
   "outputs": [],
   "source": [
    "\n"
   ]
  },
  {
   "cell_type": "markdown",
   "id": "1b280c6f",
   "metadata": {},
   "source": [
    "# Setting the Camera Resolution And  Loading Stored Faces for Recognition"
   ]
  },
  {
   "cell_type": "code",
   "execution_count": null,
   "id": "3dd586fb",
   "metadata": {},
   "outputs": [],
   "source": []
  },
  {
   "cell_type": "markdown",
   "id": "3e1c5ac1",
   "metadata": {},
   "source": [
    "# Identifying the Attendance Column for Today"
   ]
  },
  {
   "cell_type": "code",
   "execution_count": null,
   "id": "64a66164",
   "metadata": {},
   "outputs": [],
   "source": [
    "\n"
   ]
  },
  {
   "cell_type": "markdown",
   "id": "4df1e390",
   "metadata": {},
   "source": [
    "# Capturing Video and Detecting Faces And Marking Attendance in the Excel File And  Drawing Boxes Around Detected Faces"
   ]
  },
  {
   "cell_type": "code",
   "execution_count": null,
   "id": "03f29ef2",
   "metadata": {},
   "outputs": [],
   "source": [
    "\n"
   ]
  },
  {
   "cell_type": "markdown",
   "id": "5905023f",
   "metadata": {},
   "source": [
    "# Closing the Camera and Saving Data"
   ]
  },
  {
   "cell_type": "code",
   "execution_count": 2,
   "id": "df646d6f",
   "metadata": {},
   "outputs": [
    {
     "name": "stdout",
     "output_type": "stream",
     "text": [
      "📷 الكاميرا تعمل... اضغط 'q' للإغلاق\n",
      "تم تحميل الأسماء التالية: ['eman', 'kareem', 'mahoud', 'mohamed', 'mostafa', 'nada', 'youisf']\n",
      "✅ تم اكتشاف 1 وجه(وجوه)\n",
      "🔍 المسافات بين الوجوه: [0.789184   0.38827478 0.61576336 0.64127109 0.65972947 0.74285169\n",
      " 0.6415747 ]\n",
      "📝 تم تسجيل الحضور للطالب kareem في ملف Excel\n",
      "✅ تم اكتشاف 1 وجه(وجوه)\n",
      "🔍 المسافات بين الوجوه: [0.79401931 0.39067163 0.62237242 0.63972602 0.67292461 0.75715364\n",
      " 0.63224882]\n",
      "✅ تم اكتشاف 1 وجه(وجوه)\n",
      "🔍 المسافات بين الوجوه: [0.79124651 0.35611407 0.61809494 0.64021339 0.69969764 0.72795133\n",
      " 0.63411332]\n",
      "✅ تم اكتشاف 1 وجه(وجوه)\n",
      "🔍 المسافات بين الوجوه: [0.81003007 0.35041894 0.61567755 0.62771409 0.70358528 0.73970752\n",
      " 0.65227404]\n",
      "🔴 إغلاق الكاميرا.\n",
      "🔴 الطالب eman لم يحضر درس اليوم.\n",
      "🔴 الطالب mahoud لم يحضر درس اليوم.\n",
      "🔴 الطالب mohamed لم يحضر درس اليوم.\n",
      "🔴 الطالب mostafa لم يحضر درس اليوم.\n",
      "🔴 الطالب nada لم يحضر درس اليوم.\n",
      "🔴 الطالب youisf لم يحضر درس اليوم.\n",
      "🔔 الطالب nada لم يكمل حضور الدروس المطلوب هذا الشهر (1/6).\n",
      "🔔 الطالب youisf لم يكمل حضور الدروس المطلوب هذا الشهر (0/6).\n",
      "✅ تم إغلاق الكاميرا وإيقاف البرنامج بنجاح.\n"
     ]
    }
   ],
   "source": [
    "import cv2\n",
    "import face_recognition\n",
    "import openpyxl\n",
    "from datetime import datetime\n",
    "import numpy as np\n",
    "import os\n",
    "\n",
    "# بدء التقاط الفيديو من الكاميرا\n",
    "video_cap = cv2.VideoCapture(0)\n",
    "\n",
    "# التحقق من أن الكاميرا تعمل\n",
    "if not video_cap.isOpened():\n",
    "    print(\"⚠️ خطأ: تعذر فتح الكاميرا.\")\n",
    "    exit()\n",
    "\n",
    "# ضبط دقة الفيديو\n",
    "video_cap.set(cv2.CAP_PROP_FRAME_WIDTH, 1280)\n",
    "video_cap.set(cv2.CAP_PROP_FRAME_HEIGHT, 720)\n",
    "\n",
    "print(\"📷 الكاميرا تعمل... اضغط 'q' للإغلاق\")\n",
    "\n",
    "# 📌 تحميل جميع الصور من مجلد 'face_id_photos/' والتعرف على الوجوه\n",
    "face_encodings_list = []\n",
    "face_names = []\n",
    "\n",
    "photo_dir = \"photo/\"\n",
    "if not os.path.exists(photo_dir):\n",
    "    print(f\"⚠️ خطأ: المجلد '{photo_dir}' غير موجود.\")\n",
    "    exit()\n",
    "\n",
    "for file_name in os.listdir(photo_dir):\n",
    "    if file_name.endswith((\".jpg\", \".jpeg\", \".png\")):\n",
    "        image_path = os.path.join(photo_dir, file_name)\n",
    "        image = face_recognition.load_image_file(image_path)\n",
    "        encodings = face_recognition.face_encodings(image)\n",
    "\n",
    "        if encodings:\n",
    "            face_encodings_list.append(encodings[0])\n",
    "            face_names.append(os.path.splitext(file_name)[0])\n",
    "        else:\n",
    "            print(f\"⚠️ تحذير: لم يتم العثور على وجه في {file_name}\")\n",
    "\n",
    "if not face_encodings_list:\n",
    "    print(\"⚠️ خطأ: لم يتم تحميل أي وجوه، تأكد من وضع صور صالحة في المجلد.\")\n",
    "    exit()\n",
    "\n",
    "print(f\"تم تحميل الأسماء التالية: {face_names}\")\n",
    "\n",
    "# فتح ملف Excel الموجود\n",
    "excel_file = 'Attendance.xlsx'\n",
    "if not os.path.exists(excel_file):\n",
    "    print(f\"⚠️ خطأ: الملف {excel_file} غير موجود.\")\n",
    "    exit()\n",
    "\n",
    "wb = openpyxl.load_workbook(excel_file)\n",
    "ws = wb.active\n",
    "\n",
    "# تحديد عمود الحضور لهذا اليوم\n",
    "current_date = datetime.now().strftime(\"%Y-%m-%d\")\n",
    "attendance_column = None\n",
    "\n",
    "# البحث عن عمود بتاريخ اليوم\n",
    "for col in range(2, ws.max_column + 1):\n",
    "    if ws.cell(row=1, column=col).value == current_date:\n",
    "        attendance_column = col\n",
    "        break\n",
    "\n",
    "# إذا لم يكن موجودًا، يتم إنشاء عمود جديد\n",
    "if not attendance_column:\n",
    "    attendance_column = ws.max_column + 1\n",
    "    ws.cell(row=1, column=attendance_column).value = current_date\n",
    "\n",
    "# قائمة الطلاب المفترض تسجيل حضورهم (مستمدة من أسماء الوجوه)\n",
    "student_list = face_names.copy()\n",
    "\n",
    "try:\n",
    "    while True:\n",
    "        ret, frame = video_cap.read()\n",
    "        if not ret:\n",
    "            print(\"⚠️ خطأ: لم يتم التقاط صورة من الكاميرا.\")\n",
    "            break\n",
    "\n",
    "        rgb = cv2.cvtColor(frame, cv2.COLOR_BGR2RGB)\n",
    "        face_locations = face_recognition.face_locations(rgb)\n",
    "        print(f\"✅ تم اكتشاف {len(face_locations)} وجه(وجوه)\")\n",
    "\n",
    "        face_names_detected = []\n",
    "        if face_locations:\n",
    "            face_encodings = face_recognition.face_encodings(rgb, face_locations)\n",
    "            for face_encoding in face_encodings:\n",
    "                matches = face_recognition.compare_faces(face_encodings_list, face_encoding, tolerance=0.5)\n",
    "                face_distances = face_recognition.face_distance(face_encodings_list, face_encoding)\n",
    "                print(f\"🔍 المسافات بين الوجوه: {face_distances}\")\n",
    "\n",
    "                if any(matches):\n",
    "                    best_match = np.argmin(face_distances)\n",
    "                    name = face_names[best_match]\n",
    "                else:\n",
    "                    name = \"Unknown\"\n",
    "                \n",
    "                face_names_detected.append(name)\n",
    "                \n",
    "                # تسجيل الحضور في ملف Excel إذا كان الاسم معروفًا ولم يتم تسجيله مسبقًا\n",
    "                if name in face_names and name in student_list:\n",
    "                    student_list.remove(name)\n",
    "                    \n",
    "                    # البحث عن الصف المناسب للاسم في ملف Excel\n",
    "                    for row in range(2, ws.max_row + 1):\n",
    "                        if ws.cell(row=row, column=1).value == name:\n",
    "                            # التحقق مما إذا كان الحضور مسجلًا بالفعل في عمود اليوم\n",
    "                            if ws.cell(row=row, column=attendance_column).value is None:\n",
    "                                ws.cell(row=row, column=attendance_column).value = True\n",
    "                                print(f\"📝 تم تسجيل الحضور للطالب {name} في ملف Excel\")\n",
    "                            else:\n",
    "                                print(f\"✅ {name} مسجل بالفعل اليوم، لم يتم التغيير\")\n",
    "                            break\n",
    "\n",
    "        # رسم مستطيل حول الوجوه وكتابة الاسم\n",
    "        for (top, right, bottom, left), name in zip(face_locations, face_names_detected):\n",
    "            cv2.rectangle(frame, (left, top), (right, bottom), (0, 255, 0), 2)\n",
    "            cv2.putText(frame, name, (left, top - 10), cv2.FONT_HERSHEY_SIMPLEX, 0.5, (0, 255, 0), 2)\n",
    "\n",
    "        cv2.imshow('Face Recognition', frame)\n",
    "\n",
    "        if cv2.waitKey(1) & 0xFF == ord('q'):\n",
    "            print(\"🔴 إغلاق الكاميرا.\")\n",
    "            break\n",
    "except KeyboardInterrupt:\n",
    "    print(\"🔴 تم إغلاق البرنامج.\")\n",
    "finally:\n",
    "    # التحقق من الطلاب الذين لم يحضروا درس اليوم\n",
    "    if student_list:\n",
    "        for absent_student in student_list:\n",
    "            print(f\"🔴 الطالب {absent_student} لم يحضر درس اليوم.\")\n",
    "            # يمكنك هنا إضافة الكود لإرسال رسالة تنبيه للطالب (مثلاً عبر البريد الإلكتروني)\n",
    "\n",
    "    # التحقق من عدد الحضور خلال الشهر لكل طالب\n",
    "    for row in range(2, ws.max_row + 1):\n",
    "        student_name = ws.cell(row=row, column=1).value\n",
    "        attendance_count = 0\n",
    "        # نفترض أن الأعمدة من 2 حتى آخر عمود تمثل الدروس في هذا الشهر\n",
    "        for col in range(2, ws.max_column + 1):\n",
    "            if ws.cell(row=row, column=col).value == True:\n",
    "                attendance_count += 1\n",
    "        if attendance_count < 6:\n",
    "            print(f\"🔔 الطالب {student_name} لم يكمل حضور الدروس المطلوب هذا الشهر ({attendance_count}/6).\")\n",
    "            # يمكنك هنا إضافة الكود لإرسال رسالة تنبيه للطالب\n",
    "\n",
    "    wb.save(excel_file)\n",
    "    video_cap.release()\n",
    "    cv2.destroyAllWindows()\n",
    "    print(\"✅ تم إغلاق الكاميرا وإيقاف البرنامج بنجاح.\")\n"
   ]
  },
  {
   "cell_type": "code",
   "execution_count": null,
   "id": "fb34ec06",
   "metadata": {},
   "outputs": [],
   "source": []
  },
  {
   "cell_type": "code",
   "execution_count": null,
   "id": "e6a08f03",
   "metadata": {},
   "outputs": [],
   "source": []
  },
  {
   "cell_type": "code",
   "execution_count": null,
   "id": "c2e027ec",
   "metadata": {},
   "outputs": [],
   "source": []
  },
  {
   "cell_type": "code",
   "execution_count": null,
   "id": "483d4555",
   "metadata": {},
   "outputs": [],
   "source": []
  }
 ],
 "metadata": {
  "kernelspec": {
   "display_name": "Python 3 (ipykernel)",
   "language": "python",
   "name": "python3"
  },
  "language_info": {
   "codemirror_mode": {
    "name": "ipython",
    "version": 3
   },
   "file_extension": ".py",
   "mimetype": "text/x-python",
   "name": "python",
   "nbconvert_exporter": "python",
   "pygments_lexer": "ipython3",
   "version": "3.9.13"
  }
 },
 "nbformat": 4,
 "nbformat_minor": 5
}
